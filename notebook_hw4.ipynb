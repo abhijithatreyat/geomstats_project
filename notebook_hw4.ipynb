{
 "cells": [
  {
   "cell_type": "code",
   "execution_count": 18,
   "metadata": {},
   "outputs": [
    {
     "name": "stdout",
     "output_type": "stream",
     "text": [
      "ha\n"
     ]
    }
   ],
   "source": [
    "# All imports\n",
    "\n",
    "#import tensorflow as tf\n",
    "import matplotlib.pyplot as plt\n",
    "import cv2\n",
    "import scipy.io as sio\n",
    "import pandas as pd\n",
    "import numpy as np\n",
    "\n",
    "from skimage.feature import hessian_matrix_det\n",
    "from skimage.feature import corner_harris, corner_subpix, corner_peaks\n",
    "\n"
   ]
  },
  {
   "cell_type": "code",
   "execution_count": 19,
   "metadata": {},
   "outputs": [],
   "source": [
    "# Load the MPII dataset\n",
    "#\n",
    "\n",
    "mat = sio.loadmat('mpii_human_pose_v1_u12_2/mpii_human_pose_v1_u12_1.mat', struct_as_record=False)"
   ]
  },
  {
   "cell_type": "code",
   "execution_count": 20,
   "metadata": {},
   "outputs": [],
   "source": [
    "rel = mat['RELEASE']\n",
    "\n",
    "obj_rel = rel[0,0]\n",
    "\n",
    "annolist = obj_rel.__dict__['annolist']\n",
    "img_tra = obj_rel.__dict__['img_train']\n",
    "act = obj_rel.__dict__['act']\n",
    "\n",
    "n = annolist.shape[1]"
   ]
  },
  {
   "cell_type": "code",
   "execution_count": 21,
   "metadata": {},
   "outputs": [],
   "source": [
    "# All the columns of the data \n",
    "\n",
    "data_arr = ['NAME','r ankle_X','r ankle_Y', 'r knee_X','r knee_Y', 'r hip_X','r hip_Y', 'l hip_X','l hip_Y', 'l knee_X','l knee_Y', 'l ankle_X','l ankle_Y','pelvis_X','pelvis_Y','thorax_X','thorax_Y','upper neck_X','upper neck_Y', 'head top_X','head top_Y', 'r wrist_X','r wrist_Y','r elbow_X','r elbow_Y', 'r shoulder_X','r shoulder_Y','l shoulder_X','l shoulder_Y','l elbow_X','l elbow_Y', 'l wrist_X','l wrist_Y','Scale','Activity','Category']\n",
    "\n",
    "data = pd.DataFrame(columns=data_arr)"
   ]
  },
  {
   "cell_type": "code",
   "execution_count": 22,
   "metadata": {},
   "outputs": [],
   "source": [
    "# This dataset is in .mat format.\n",
    "# \n",
    "# Convert the data into dataframe\n",
    "\n",
    "for ix in range(0,annolist.shape[1]):\n",
    "    if img_tra[0,ix] == 0:\n",
    "        continue\n",
    "    temp_arr = []\n",
    "    obj_list = annolist[0,ix]\n",
    "    obj_act = act[ix,0]\n",
    "    \n",
    "    rect =obj_list.__dict__['annorect']\n",
    "    img_d = obj_list.__dict__['image']\n",
    "    if rect.shape[0] ==0:\n",
    "        continue\n",
    "        \n",
    "    obj_rect = rect[0,0]\n",
    "    obj_img = img_d[0,0]\n",
    "    \n",
    "    \n",
    "    if 'annopoints' not in obj_rect._fieldnames:\n",
    "        continue\n",
    "    \n",
    "    name_d = obj_img.__dict__['name']\n",
    "    name = name_d[0]\n",
    "    temp_arr.append(name)\n",
    "    annopoints = obj_rect.__dict__['annopoints']\n",
    "    if annopoints.shape[0]==0:\n",
    "        continue\n",
    "    obj_points = annopoints[0,0]\n",
    "    points = obj_points.__dict__['point']\n",
    "    cnt = 0\n",
    "    px = 0\n",
    "    \n",
    "    for n in range(0,32):\n",
    "        temp_arr.append(-1)\n",
    "    \n",
    "    \n",
    "    for px in range(0,points.shape[1]):\n",
    "        po = points[0,px]\n",
    "        po_id = po.__dict__['id']\n",
    "        \n",
    "        po_x = po.__dict__['x']\n",
    "        po_y = po.__dict__['y']\n",
    "        po_isvisible = po.__dict__['is_visible']\n",
    "        ind = 2*po_id[0][0]+1\n",
    "        temp_arr[ind] = po_x[0][0]\n",
    "        temp_arr[ind+1] = po_y[0][0]\n",
    "        \n",
    "        \n",
    "    scale = obj_rect.__dict__['scale']\n",
    "    temp_arr.append(scale[0][0])\n",
    "    \n",
    "    activity = act[ix,0]\n",
    "    \n",
    "    a_n = activity.act_name\n",
    "    c_n = activity.cat_name\n",
    "    \n",
    "    if a_n.shape[0]==0:\n",
    "        temp_arr.append(a_n)\n",
    "    else:\n",
    "        temp_arr.append(activity.act_name[0])\n",
    "    if c_n.shape[0]==0:\n",
    "        temp_arr.append(c_n)\n",
    "    else:\n",
    "        temp_arr.append(activity.cat_name[0])\n",
    "    \n",
    "    temp_data_f = pd.DataFrame([temp_arr],columns=data_arr)\n",
    "    \n",
    "    data = pd.concat([data,temp_data_f])"
   ]
  },
  {
   "cell_type": "code",
   "execution_count": 28,
   "metadata": {
    "scrolled": true
   },
   "outputs": [],
   "source": [
    "data.tail(10)"
   ]
  },
  {
   "cell_type": "code",
   "execution_count": null,
   "metadata": {},
   "outputs": [],
   "source": [
    "# Clean the data \n",
    "filter_data = data[data[data_arr] != 0].dropna(axis=0)\n",
    "filter_data.tail(10)"
   ]
  },
  {
   "cell_type": "code",
   "execution_count": 25,
   "metadata": {},
   "outputs": [],
   "source": [
    "# Get data from 2 classes. Clean the data\n",
    "# \n",
    "# Classes  : Running , Bicycling \n",
    "\n",
    "input_running = filter_data[filter_data[\"Activity\"] == \"running\"]\n",
    "input_cycling= filter_data[filter_data[\"Activity\"] == \"bicycling, mountain\"]\n",
    "\n",
    "input_cycling_filtered =  input_cycling[input_cycling[data_arr] != -1]\n",
    "input_cycling_filtered =  input_cycling_filtered.dropna(axis=0)\n",
    "\n",
    "input_running_filtered =  input_running[input_running[data_arr] != -1]\n",
    "input_running_filtered =  input_running_filtered.dropna(axis=0)\n"
   ]
  },
  {
   "cell_type": "code",
   "execution_count": null,
   "metadata": {},
   "outputs": [],
   "source": [
    "\n",
    "\n",
    "input = filter_data.drop([\"NAME\",\"Activity\"],axis=1)\n",
    "input.tail(10)"
   ]
  },
  {
   "cell_type": "code",
   "execution_count": null,
   "metadata": {},
   "outputs": [],
   "source": [
    "#Scale the data ( Required for standard ML)\n"
   ]
  },
  {
   "cell_type": "code",
   "execution_count": null,
   "metadata": {},
   "outputs": [],
   "source": [
    "# Check if data is present on SPD manifold\n",
    "# TODO Remove this cell\n",
    "# Cannot use SPD manifold learning \"5_practical_methods__simple_machine_learning_on_tangent_spaces.ipynb\"\n",
    "\n",
    "spd_input = input_running.drop([\"NAME\",\"Activity\",\"Scale\",\"Category\"], axis=1)\n",
    "spd_input_np = spd_input.to_numpy()"
   ]
  },
  {
   "cell_type": "code",
   "execution_count": null,
   "metadata": {},
   "outputs": [],
   "source": [
    "# Display the images and keypoints \n",
    "#\n",
    "# Abhijith"
   ]
  },
  {
   "cell_type": "code",
   "execution_count": 103,
   "metadata": {},
   "outputs": [
    {
     "data": {
      "image/png": "[encoded data removed]",
      "text/plain": [
       "<Figure size 432x432 with 1 Axes>"
      ]
     },
     "metadata": {
      "needs_background": "light"
     },
     "output_type": "display_data"
    }
   ],
   "source": [
    "# PCA on manifolds\n",
    "# \n",
    "# https://github.com/geomstats/geomstats/blob/master/notebooks/14_real_world_applications__hand_poses_analysis_in_kendall_shape_space.ipynb\n",
    "#\n",
    "# Chris\n",
    "import geomstats.backend as gs\n",
    "from geomstats.geometry.pre_shape import PreShapeSpace, KendallShapeMetric\n",
    "from geomstats.learning.pca import TangentPCA\n",
    "\n",
    "def format_dataframe(df, label):\n",
    "    feature_names=df.columns\n",
    "\n",
    "    samples=[]\n",
    "    for sample in range(len(df)):\n",
    "        \n",
    "        sample_features=[]\n",
    "        \n",
    "        for index in range(len(feature_names)-1):\n",
    "            \n",
    "            if feature_names[index][:-1]==feature_names[index+1][:-1]:\n",
    "                \n",
    "                landmark_coord=[df.iloc[sample][feature_names[index]],df.iloc[sample][feature_names[index+1]]]\n",
    "                \n",
    "                sample_features.append(landmark_coord)\n",
    "                \n",
    "        samples.append(sample_features)\n",
    "    \n",
    "    return np.array(samples), np.array([label]*len(samples))\n",
    "\n",
    "\n",
    "\n",
    "running, r_labels=format_dataframe(input_running_filtered,0)\n",
    "cycling, c_labels=format_dataframe(input_cycling_filtered,1)\n",
    "\n",
    "\n",
    "dataset=np.concatenate((running,cycling))\n",
    "labels=np.concatenate((r_labels,c_labels))\n",
    "#print(dataset.shape)\n",
    "\n",
    "m_ambient = 2\n",
    "k_landmarks = 16\n",
    "\n",
    "preshape = PreShapeSpace(m_ambient=m_ambient, k_landmarks=k_landmarks)\n",
    "matrices_metric = preshape.embedding_metric\n",
    "\n",
    "\n",
    "pose_preshape = preshape.projection(dataset)\n",
    "\n",
    "\n",
    "base_point = pose_preshape[0]\n",
    "# print(pose_preshape.shape)\n",
    "# print(preshape.belongs(pose_preshape))\n",
    "# print(gs.isclose(matrices_metric.norm(pose_preshape), 1.0))\n",
    "\n",
    "\n",
    "#Align the landmark sets in the preshape space\n",
    "pose_shape = preshape.align(point=pose_preshape, base_point=base_point)\n",
    "#print(pose_shape.shape)\n",
    "kendall_metric = KendallShapeMetric(m_ambient=m_ambient, k_landmarks=k_landmarks)\n",
    "\n",
    "\n",
    "\n",
    "\n",
    "tpca = TangentPCA(kendall_metric)\n",
    "tpca.fit(pose_shape)\n",
    "\n",
    "# plt.figure()\n",
    "# plt.plot(tpca.explained_variance_ratio_)\n",
    "# plt.xlabel(\"Number of principal tangent components\", size=14)\n",
    "# plt.ylabel(\"Fraction of explained variance\", size=14);\n",
    "\n",
    "label_to_str = {0: \"Running\", 1: \"Cycling\"}\n",
    "label_to_color = {\n",
    "    0: (102 / 255, 178 / 255, 255 / 255, 1.0),\n",
    "    1: (255 / 255, 178 / 255, 102 / 255, 1.0),\n",
    "}\n",
    "\n",
    "%matplotlib inline\n",
    "X = tpca.transform(pose_shape)\n",
    "\n",
    "plt.figure(figsize=(6, 6))\n",
    "\n",
    "for label, col in label_to_color.items():\n",
    "    mask = labels == label\n",
    "    plt.scatter(X[mask, 0], X[mask, 1], color=col, s=100, label=label_to_str[label])\n",
    "plt.legend(fontsize=14)\n",
    "plt.title(\n",
    "    \"Projection on the 2 first principal components\"\n",
    "    \"\\nof tangent PCA in Kendall shape space\"\n",
    ");\n",
    "\n",
    "#assert feature_names[3][:-1]==feature_names[4][:-1]\n"
   ]
  },
  {
   "cell_type": "code",
   "execution_count": 40,
   "metadata": {},
   "outputs": [],
   "source": [
    "# Use distance metric to perform classification on tangent space\n",
    "# \n",
    "# Not present in any notebook\n",
    "# Jax Burd \n"
   ]
  },
  {
   "cell_type": "code",
   "execution_count": null,
   "metadata": {},
   "outputs": [],
   "source": [
    "# Perform standard ML on the dataset\n",
    "#\n",
    "# PCA + ML\n",
    "# Abhijith "
   ]
  }
 ],
 "metadata": {
  "interpreter": {
   "hash": "916dbcbb3f70747c44a77c7bcd40155683ae19c65e1c03b4aa3499c5328201f1"
  },
  "kernelspec": {
   "display_name": "Python 3 (ipykernel)",
   "language": "python",
   "name": "python3"
  },
  "language_info": {
   "codemirror_mode": {
    "name": "ipython",
    "version": 3
   },
   "file_extension": ".py",
   "mimetype": "text/x-python",
   "name": "python",
   "nbconvert_exporter": "python",
   "pygments_lexer": "ipython3",
   "version": "3.9.7"
  }
 },
 "nbformat": 4,
 "nbformat_minor": 2
}
